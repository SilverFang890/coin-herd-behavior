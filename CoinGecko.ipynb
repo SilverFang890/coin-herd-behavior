{
 "cells": [
  {
   "cell_type": "code",
   "execution_count": 1,
   "metadata": {},
   "outputs": [],
   "source": [
    "from pycoingecko import CoinGeckoAPI\n",
    "from datascience import *\n",
    "import time\n",
    "cg = CoinGeckoAPI()"
   ]
  },
  {
   "cell_type": "code",
   "execution_count": 2,
   "metadata": {},
   "outputs": [],
   "source": [
    "# cg.get_price(ids='dogecoin', vs_currencies='usd')"
   ]
  },
  {
   "cell_type": "code",
   "execution_count": 3,
   "metadata": {},
   "outputs": [],
   "source": [
    "# cg.get_coin_history_by_id(id=\"dogecoin\", date=\"1-1-2020\", vs_currencies='usd')['market_data']['current_price']['usd']"
   ]
  },
  {
   "cell_type": "code",
   "execution_count": 4,
   "metadata": {},
   "outputs": [],
   "source": [
    "calendar = list()\n",
    "for i in range(1, 7):\n",
    "    calendar.append([(x, i) for x in range(1, 32)])"
   ]
  },
  {
   "cell_type": "code",
   "execution_count": 5,
   "metadata": {
    "scrolled": true
   },
   "outputs": [
    {
     "data": {
      "text/plain": [
       "['1-1-2021',\n",
       " '2-1-2021',\n",
       " '3-1-2021',\n",
       " '4-1-2021',\n",
       " '5-1-2021',\n",
       " '6-1-2021',\n",
       " '7-1-2021',\n",
       " '8-1-2021',\n",
       " '9-1-2021',\n",
       " '10-1-2021',\n",
       " '11-1-2021',\n",
       " '12-1-2021',\n",
       " '13-1-2021',\n",
       " '14-1-2021',\n",
       " '15-1-2021',\n",
       " '16-1-2021',\n",
       " '17-1-2021',\n",
       " '18-1-2021',\n",
       " '19-1-2021',\n",
       " '20-1-2021',\n",
       " '21-1-2021',\n",
       " '22-1-2021',\n",
       " '23-1-2021',\n",
       " '24-1-2021',\n",
       " '25-1-2021',\n",
       " '26-1-2021',\n",
       " '27-1-2021',\n",
       " '28-1-2021',\n",
       " '29-1-2021',\n",
       " '30-1-2021',\n",
       " '31-1-2021',\n",
       " '1-2-2021',\n",
       " '2-2-2021',\n",
       " '3-2-2021',\n",
       " '4-2-2021',\n",
       " '5-2-2021',\n",
       " '6-2-2021',\n",
       " '7-2-2021',\n",
       " '8-2-2021',\n",
       " '9-2-2021',\n",
       " '10-2-2021',\n",
       " '11-2-2021',\n",
       " '12-2-2021',\n",
       " '13-2-2021',\n",
       " '14-2-2021',\n",
       " '15-2-2021',\n",
       " '16-2-2021',\n",
       " '17-2-2021',\n",
       " '18-2-2021',\n",
       " '19-2-2021',\n",
       " '20-2-2021',\n",
       " '21-2-2021',\n",
       " '22-2-2021',\n",
       " '23-2-2021',\n",
       " '24-2-2021',\n",
       " '25-2-2021',\n",
       " '26-2-2021',\n",
       " '27-2-2021',\n",
       " '28-2-2021',\n",
       " '29-2-2021',\n",
       " '30-2-2021',\n",
       " '31-2-2021',\n",
       " '1-3-2021',\n",
       " '2-3-2021',\n",
       " '3-3-2021',\n",
       " '4-3-2021',\n",
       " '5-3-2021',\n",
       " '6-3-2021',\n",
       " '7-3-2021',\n",
       " '8-3-2021',\n",
       " '9-3-2021',\n",
       " '10-3-2021',\n",
       " '11-3-2021',\n",
       " '12-3-2021',\n",
       " '13-3-2021',\n",
       " '14-3-2021',\n",
       " '15-3-2021',\n",
       " '16-3-2021',\n",
       " '17-3-2021',\n",
       " '18-3-2021',\n",
       " '19-3-2021',\n",
       " '20-3-2021',\n",
       " '21-3-2021',\n",
       " '22-3-2021',\n",
       " '23-3-2021',\n",
       " '24-3-2021',\n",
       " '25-3-2021',\n",
       " '26-3-2021',\n",
       " '27-3-2021',\n",
       " '28-3-2021',\n",
       " '29-3-2021',\n",
       " '30-3-2021',\n",
       " '31-3-2021',\n",
       " '1-4-2021',\n",
       " '2-4-2021',\n",
       " '3-4-2021',\n",
       " '4-4-2021',\n",
       " '5-4-2021',\n",
       " '6-4-2021',\n",
       " '7-4-2021',\n",
       " '8-4-2021',\n",
       " '9-4-2021',\n",
       " '10-4-2021',\n",
       " '11-4-2021',\n",
       " '12-4-2021',\n",
       " '13-4-2021',\n",
       " '14-4-2021',\n",
       " '15-4-2021',\n",
       " '16-4-2021',\n",
       " '17-4-2021',\n",
       " '18-4-2021',\n",
       " '19-4-2021',\n",
       " '20-4-2021',\n",
       " '21-4-2021',\n",
       " '22-4-2021',\n",
       " '23-4-2021',\n",
       " '24-4-2021',\n",
       " '25-4-2021',\n",
       " '26-4-2021',\n",
       " '27-4-2021',\n",
       " '28-4-2021',\n",
       " '29-4-2021',\n",
       " '30-4-2021',\n",
       " '31-4-2021',\n",
       " '1-5-2021',\n",
       " '2-5-2021',\n",
       " '3-5-2021',\n",
       " '4-5-2021',\n",
       " '5-5-2021',\n",
       " '6-5-2021',\n",
       " '7-5-2021',\n",
       " '8-5-2021',\n",
       " '9-5-2021',\n",
       " '10-5-2021',\n",
       " '11-5-2021',\n",
       " '12-5-2021',\n",
       " '13-5-2021',\n",
       " '14-5-2021',\n",
       " '15-5-2021',\n",
       " '16-5-2021',\n",
       " '17-5-2021',\n",
       " '18-5-2021',\n",
       " '19-5-2021',\n",
       " '20-5-2021',\n",
       " '21-5-2021',\n",
       " '22-5-2021',\n",
       " '23-5-2021',\n",
       " '24-5-2021',\n",
       " '25-5-2021',\n",
       " '26-5-2021',\n",
       " '27-5-2021',\n",
       " '28-5-2021',\n",
       " '29-5-2021',\n",
       " '30-5-2021',\n",
       " '31-5-2021',\n",
       " '1-6-2021',\n",
       " '2-6-2021',\n",
       " '3-6-2021',\n",
       " '4-6-2021',\n",
       " '5-6-2021',\n",
       " '6-6-2021',\n",
       " '7-6-2021',\n",
       " '8-6-2021',\n",
       " '9-6-2021',\n",
       " '10-6-2021',\n",
       " '11-6-2021',\n",
       " '12-6-2021',\n",
       " '13-6-2021',\n",
       " '14-6-2021',\n",
       " '15-6-2021',\n",
       " '16-6-2021',\n",
       " '17-6-2021',\n",
       " '18-6-2021',\n",
       " '19-6-2021',\n",
       " '20-6-2021',\n",
       " '21-6-2021',\n",
       " '22-6-2021',\n",
       " '23-6-2021',\n",
       " '24-6-2021',\n",
       " '25-6-2021',\n",
       " '26-6-2021',\n",
       " '27-6-2021',\n",
       " '28-6-2021',\n",
       " '29-6-2021',\n",
       " '30-6-2021',\n",
       " '31-6-2021']"
      ]
     },
     "execution_count": 5,
     "metadata": {},
     "output_type": "execute_result"
    }
   ],
   "source": [
    "every_date = []\n",
    "for month in calendar:\n",
    "    for x,y in month:\n",
    "        date = f'{x}-{y}-2021'\n",
    "        every_date.append(date)\n",
    "every_date"
   ]
  },
  {
   "cell_type": "code",
   "execution_count": 6,
   "metadata": {},
   "outputs": [],
   "source": [
    "memecoins = ['100x-coin', 'akita-inu', 'chow-chow-finance', 'cumrocket', 'dogecoin', 'dogelon-mars', \n",
    "             'elongate', 'husky', 'memepad', 'memes-token', 'monacoin', 'pepemon-pepeballs', 'pig-finance', \n",
    "             'poocoin', 'popcorn-token', 'rotten', 'sad-cat-token', 'shiba-inu', 'tendies', 'safemoon', 'jejudoge',\n",
    "             'smooth-love-potion']"
   ]
  },
  {
   "cell_type": "code",
   "execution_count": 7,
   "metadata": {},
   "outputs": [],
   "source": [
    "def get_prices(coin, days, array):\n",
    "    tries = 0\n",
    "    for day in days:\n",
    "        try:\n",
    "            array.append(cg.get_coin_history_by_id(id=coin, date=day)['market_data']['current_price']['usd'])\n",
    "        except:\n",
    "            array.append(-1)\n",
    "        tries = tries + 1\n",
    "        if tries == 50:\n",
    "            time.sleep(65)\n",
    "            tries = 0"
   ]
  },
  {
   "cell_type": "code",
   "execution_count": 8,
   "metadata": {},
   "outputs": [],
   "source": [
    "prices_list = []\n",
    "for i in range(len(memecoins)):\n",
    "    prices_list.append([])\n"
   ]
  },
  {
   "cell_type": "code",
   "execution_count": 9,
   "metadata": {},
   "outputs": [
    {
     "data": {
      "text/plain": [
       "22"
      ]
     },
     "execution_count": 9,
     "metadata": {},
     "output_type": "execute_result"
    }
   ],
   "source": [
    "len(prices_list)"
   ]
  },
  {
   "cell_type": "markdown",
   "metadata": {},
   "source": [
    "Long Command! Run At Your Own Risk!"
   ]
  },
  {
   "cell_type": "markdown",
   "metadata": {},
   "source": [
    "#beware!\n",
    "\n",
    "counter = 0\n",
    "for coin in memecoins:\n",
    "    get_prices(coin, every_date, prices_list[counter])\n",
    "    counter += 1"
   ]
  },
  {
   "cell_type": "markdown",
   "metadata": {},
   "source": [
    "^ Beware!"
   ]
  },
  {
   "cell_type": "code",
   "execution_count": 18,
   "metadata": {},
   "outputs": [
    {
     "ename": "IndexError",
     "evalue": "list index out of range",
     "output_type": "error",
     "traceback": [
      "\u001b[1;31m---------------------------------------------------------------------------\u001b[0m",
      "\u001b[1;31mIndexError\u001b[0m                                Traceback (most recent call last)",
      "\u001b[1;32m<ipython-input-18-0ae6485d7c49>\u001b[0m in \u001b[0;36m<module>\u001b[1;34m\u001b[0m\n\u001b[0;32m      1\u001b[0m \u001b[1;32mfor\u001b[0m \u001b[0mcount\u001b[0m \u001b[1;32min\u001b[0m \u001b[0mrange\u001b[0m\u001b[1;33m(\u001b[0m\u001b[1;36m5\u001b[0m\u001b[1;33m,\u001b[0m\u001b[1;36m23\u001b[0m\u001b[1;33m)\u001b[0m\u001b[1;33m:\u001b[0m\u001b[1;33m\u001b[0m\u001b[1;33m\u001b[0m\u001b[0m\n\u001b[0;32m      2\u001b[0m     \u001b[0mcounter\u001b[0m \u001b[1;33m=\u001b[0m \u001b[0mcount\u001b[0m\u001b[1;33m\u001b[0m\u001b[1;33m\u001b[0m\u001b[0m\n\u001b[1;32m----> 3\u001b[1;33m     \u001b[0mmemecoin\u001b[0m \u001b[1;33m=\u001b[0m \u001b[0mmemecoins\u001b[0m\u001b[1;33m[\u001b[0m\u001b[0mcounter\u001b[0m\u001b[1;33m]\u001b[0m\u001b[1;33m\u001b[0m\u001b[1;33m\u001b[0m\u001b[0m\n\u001b[0m\u001b[0;32m      4\u001b[0m     \u001b[0mput_to_list\u001b[0m\u001b[1;33m(\u001b[0m\u001b[0mmemecoin\u001b[0m\u001b[1;33m)\u001b[0m\u001b[1;33m\u001b[0m\u001b[1;33m\u001b[0m\u001b[0m\n\u001b[0;32m      5\u001b[0m     \u001b[0mwrite_to_txt\u001b[0m\u001b[1;33m(\u001b[0m\u001b[0mmemecoin\u001b[0m\u001b[1;33m,\u001b[0m \u001b[0mcounter\u001b[0m\u001b[1;33m)\u001b[0m\u001b[1;33m\u001b[0m\u001b[1;33m\u001b[0m\u001b[0m\n",
      "\u001b[1;31mIndexError\u001b[0m: list index out of range"
     ]
    }
   ],
   "source": [
    "for count in range(5,23):\n",
    "    counter = count\n",
    "    memecoin = memecoins[counter]\n",
    "    put_to_list(memecoin)\n",
    "    write_to_txt(memecoin, counter)\n",
    "\n",
    "def put_to_list(coin):\n",
    "    get_prices(coin, every_date, prices_list[counter])\n",
    "\n",
    "        \n",
    "\n",
    "def write_to_txt(coin, index):\n",
    "    with open(f'{coin}.txt', 'w') as f:\n",
    "        for price in prices_list[index]:\n",
    "            f.write(str(price))\n",
    "            f.write(',')"
   ]
  },
  {
   "cell_type": "code",
   "execution_count": null,
   "metadata": {
    "scrolled": true
   },
   "outputs": [],
   "source": [
    "prices_list"
   ]
  },
  {
   "cell_type": "code",
   "execution_count": null,
   "metadata": {},
   "outputs": [],
   "source": []
  }
 ],
 "metadata": {
  "kernelspec": {
   "display_name": "Python 3",
   "language": "python",
   "name": "python3"
  },
  "language_info": {
   "codemirror_mode": {
    "name": "ipython",
    "version": 3
   },
   "file_extension": ".py",
   "mimetype": "text/x-python",
   "name": "python",
   "nbconvert_exporter": "python",
   "pygments_lexer": "ipython3",
   "version": "3.8.8"
  }
 },
 "nbformat": 4,
 "nbformat_minor": 4
}
